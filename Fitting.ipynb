{
 "cells": [
  {
   "cell_type": "code",
   "execution_count": null,
   "id": "01142fad",
   "metadata": {},
   "outputs": [],
   "source": [
    "%pylab inline"
   ]
  },
  {
   "cell_type": "code",
   "execution_count": null,
   "id": "c74a33ec",
   "metadata": {},
   "outputs": [],
   "source": [
    "x = linspace(-pi/2, pi/2, 1000)"
   ]
  },
  {
   "cell_type": "code",
   "execution_count": null,
   "id": "686a67fa",
   "metadata": {},
   "outputs": [],
   "source": [
    "C1 = 4*(2-pi)/pi**3\n",
    "\n",
    "z = x**2\n",
    "Q1 = x*(1+z*C1)\n",
    "\n",
    "P1 = x*2/pi\n",
    "P2 = lambda b: x * ((2/pi - b*(pi/2)**2) + x**2*b)\n",
    "\n",
    "fn = sin(x)\n",
    "\n",
    "plot(x, fn, label=\"sin(x)\")\n",
    "plot(x, Q1, label=\"Q1\")\n",
    "#plot(x, P1, label=\"P1\")\n",
    "plot(x, P2(-0.140), label=\"P2\")\n",
    "grid()\n",
    "legend()\n",
    "#ylim([0.8, 1])\n",
    "#xlim([0.8, pi/2])\n",
    "show()"
   ]
  },
  {
   "cell_type": "code",
   "execution_count": null,
   "id": "f1bb5f4f",
   "metadata": {},
   "outputs": [],
   "source": [
    "err = sin(x)-Q1\n",
    "\n",
    "plot(x, sin(x)-Q1)\n",
    "plot(x, sin(x)-P2(-0.140))\n",
    "grid()\n",
    "show()"
   ]
  }
 ],
 "metadata": {
  "kernelspec": {
   "display_name": "Python 3 (ipykernel)",
   "language": "python",
   "name": "python3"
  },
  "language_info": {
   "codemirror_mode": {
    "name": "ipython",
    "version": 3
   },
   "file_extension": ".py",
   "mimetype": "text/x-python",
   "name": "python",
   "nbconvert_exporter": "python",
   "pygments_lexer": "ipython3",
   "version": "3.9.7"
  }
 },
 "nbformat": 4,
 "nbformat_minor": 5
}
