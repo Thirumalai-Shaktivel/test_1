{
 "cells": [
  {
   "cell_type": "code",
   "execution_count": null,
   "id": "4933dd74",
   "metadata": {},
   "outputs": [],
   "source": [
    "!gfortran -Wall -Wextra -Wimplicit-interface -fPIC -fmax-errors=1 -g -fcheck=all -fbacktrace sin_accuracy.f90 -o sin_accuracy\n",
    "!gfortran -Wall -Wextra -Wimplicit-interface -fPIC -fmax-errors=1 -g -fcheck=all -fbacktrace sin_accuracy_pure.f90 -o sin_accuracy_pure\n",
    "!./sin_accuracy > sin_data.txt\n",
    "!./sin_accuracy_pure > sin_pure_data.txt"
   ]
  },
  {
   "cell_type": "code",
   "execution_count": null,
   "id": "20d0a772",
   "metadata": {},
   "outputs": [],
   "source": [
    "%pylab inline\n",
    "from flint import ctx, arb\n",
    "ctx.pretty = True\n",
    "ctx.unicode = True \n",
    "ctx.dps = 50"
   ]
  },
  {
   "cell_type": "code",
   "execution_count": null,
   "id": "e1a16901",
   "metadata": {},
   "outputs": [],
   "source": [
    "def compute_sin_arb(x):\n",
    "    y = empty(size(x), dtype=arb)\n",
    "    for i in range(size(x)):\n",
    "        y[i] = arb(x[i]).sin()\n",
    "    return y"
   ]
  },
  {
   "cell_type": "code",
   "execution_count": null,
   "id": "148f013b",
   "metadata": {},
   "outputs": [],
   "source": [
    "D = loadtxt(\"sin_data.txt\")\n",
    "x = D[:,0]\n",
    "sin_gf = D[:,1]\n",
    "sin_arb = compute_sin_arb(x)\n",
    "D = loadtxt(\"sin_pure_data.txt\")\n",
    "assert(max(abs(x-D[:,0])) < 1e-16)\n",
    "sin_pure = D[:,1]\n",
    "\n",
    "err_gf = abs(sin_gf - sin_arb)\n",
    "err_pure = abs(sin_pure - sin_arb)\n",
    "\n",
    "\n",
    "figure(figsize=(12, 8))\n",
    "loglog(x, err_gf, label=\"GFortran Intrinsic\")\n",
    "loglog(x, err_pure, \"--\", label=\"Pure\")\n",
    "legend()\n",
    "xlabel(\"x\")\n",
    "ylabel(\"Error of sin(x)\")\n",
    "grid()\n",
    "show()"
   ]
  }
 ],
 "metadata": {
  "kernelspec": {
   "display_name": "Python 3 (ipykernel)",
   "language": "python",
   "name": "python3"
  },
  "language_info": {
   "codemirror_mode": {
    "name": "ipython",
    "version": 3
   },
   "file_extension": ".py",
   "mimetype": "text/x-python",
   "name": "python",
   "nbconvert_exporter": "python",
   "pygments_lexer": "ipython3",
   "version": "3.9.7"
  }
 },
 "nbformat": 4,
 "nbformat_minor": 5
}
