{
 "cells": [
  {
   "cell_type": "code",
   "execution_count": null,
   "id": "4933dd74",
   "metadata": {},
   "outputs": [],
   "source": [
    "!gfortran -Wall -Wextra -Wimplicit-interface -fPIC -fmax-errors=1 -g -fcheck=all -fbacktrace sin_accuracy.f90 -o sin_accuracy\n",
    "!gfortran -Wall -Wextra -Wimplicit-interface -fPIC -fmax-errors=1 -g -fcheck=all -fbacktrace sin_accuracy_pure.f90 -o sin_accuracy_pure\n",
    "!gfortran -Wall -Wextra -Wimplicit-interface -fPIC -fmax-errors=1 -g -fcheck=all -fbacktrace sin_accuracy_pure_kernel.f90 -o sin_accuracy_pure_kernel\n",
    "!./sin_accuracy > sin_data.txt\n",
    "!./sin_accuracy_pure > sin_pure_data.txt\n",
    "!./sin_accuracy_pure_kernel > sin_pure_data_kernel.txt"
   ]
  },
  {
   "cell_type": "code",
   "execution_count": null,
   "id": "20d0a772",
   "metadata": {},
   "outputs": [],
   "source": [
    "%pylab inline\n",
    "from flint import ctx, arb\n",
    "ctx.pretty = True\n",
    "ctx.unicode = True \n",
    "ctx.dps = 50"
   ]
  },
  {
   "cell_type": "code",
   "execution_count": null,
   "id": "e1a16901",
   "metadata": {},
   "outputs": [],
   "source": [
    "def compute_sin_arb(x):\n",
    "    y = empty(size(x), dtype=arb)\n",
    "    for i in range(size(x)):\n",
    "        y[i] = arb(x[i]).sin()\n",
    "    return y"
   ]
  },
  {
   "cell_type": "code",
   "execution_count": null,
   "id": "9d504817",
   "metadata": {},
   "outputs": [],
   "source": [
    "def floor(x):\n",
    "    return int(x)\n",
    "\n",
    "def mymod(x):\n",
    "    y = empty(size(x), dtype=\"double\")\n",
    "    y2 = 2*pi\n",
    "    for i in range(size(x)):\n",
    "        y[i] = x[i] - floor(x[i]/y2)*y2\n",
    "    return y\n",
    "\n",
    "def arbmod(x):\n",
    "    y = empty(size(x), dtype=arb)\n",
    "    y2 = 2*arb.pi()\n",
    "    for i in range(size(x)):\n",
    "        y[i] = x[i] - (x[i]/y2).floor()*y2\n",
    "    return y"
   ]
  },
  {
   "cell_type": "code",
   "execution_count": null,
   "id": "148f013b",
   "metadata": {},
   "outputs": [],
   "source": [
    "D = loadtxt(\"sin_data.txt\")\n",
    "x = D[:,0]\n",
    "sin_gf = D[:,1]\n",
    "sin_arb = compute_sin_arb(x)\n",
    "D = loadtxt(\"sin_pure_data.txt\")\n",
    "assert(max(abs(x-D[:,0])) < 1e-16)\n",
    "sin_pure = D[:,1]\n",
    "\n",
    "err_gf = abs(sin_gf - sin_arb)\n",
    "err_pure = abs(sin_pure - sin_arb)\n",
    "\n",
    "mod_pure = mymod(x)\n",
    "mod_arb = arbmod(x)\n",
    "err_mod = abs(mod_pure-mod_arb)\n",
    "\n",
    "\n",
    "figure(figsize=(12, 8))\n",
    "loglog(x, err_gf, label=\"GFortran Intrinsic\")\n",
    "loglog(x, err_pure, label=\"Pure\")\n",
    "loglog(x, err_mod, \"--\", label=\"Modulo\")\n",
    "legend()\n",
    "xlabel(\"x\")\n",
    "ylabel(\"Error of sin(x)\")\n",
    "#xlim([1, 1e5])\n",
    "#ylim([1e-17, 1e-12])\n",
    "grid()\n",
    "show()"
   ]
  },
  {
   "cell_type": "code",
   "execution_count": null,
   "id": "af4f1d0f",
   "metadata": {},
   "outputs": [],
   "source": [
    "D = loadtxt(\"sin_pure_data_kernel.txt\")\n",
    "x = D[:,0]\n",
    "sin_pure_kernel = D[:,1]\n",
    "sin_arb = compute_sin_arb(x)\n",
    "\n",
    "err_pure_kernel = abs(sin_pure_kernel - sin_arb)\n",
    "\n",
    "\n",
    "figure(figsize=(12, 8))\n",
    "plot(x, err_pure_kernel, label=\"Pure kernel\")\n",
    "legend()\n",
    "xlabel(\"x\")\n",
    "ylabel(\"Error of sin(x)\")\n",
    "grid()\n",
    "show()"
   ]
  }
 ],
 "metadata": {
  "kernelspec": {
   "display_name": "Python 3 (ipykernel)",
   "language": "python",
   "name": "python3"
  },
  "language_info": {
   "codemirror_mode": {
    "name": "ipython",
    "version": 3
   },
   "file_extension": ".py",
   "mimetype": "text/x-python",
   "name": "python",
   "nbconvert_exporter": "python",
   "pygments_lexer": "ipython3",
   "version": "3.9.7"
  }
 },
 "nbformat": 4,
 "nbformat_minor": 5
}
