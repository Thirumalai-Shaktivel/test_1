{
 "cells": [
  {
   "cell_type": "code",
   "execution_count": null,
   "id": "4933dd74",
   "metadata": {},
   "outputs": [],
   "source": [
    "!./build.sh\n",
    "!./sin_perf > sin_data.txt\n",
    "!./sin_perf_pure > sin_pure_data.txt"
   ]
  },
  {
   "cell_type": "code",
   "execution_count": null,
   "id": "20d0a772",
   "metadata": {},
   "outputs": [],
   "source": [
    "%pylab inline\n",
    "import math\n",
    "from flint import ctx, arb\n",
    "ctx.pretty = True\n",
    "ctx.unicode = True \n",
    "ctx.dps = 50"
   ]
  },
  {
   "cell_type": "code",
   "execution_count": null,
   "id": "e1a16901",
   "metadata": {},
   "outputs": [],
   "source": [
    "def compute_sin_arb(x):\n",
    "    y = empty(size(x), dtype=arb)\n",
    "    for i in range(size(x)):\n",
    "        y[i] = arb(x[i]).sin()\n",
    "    return y"
   ]
  },
  {
   "cell_type": "code",
   "execution_count": null,
   "id": "148f013b",
   "metadata": {
    "scrolled": false
   },
   "outputs": [],
   "source": [
    "D = loadtxt(\"sin_data.txt\")\n",
    "x = D[:,0]\n",
    "sin_gf = D[:,1]\n",
    "D = loadtxt(\"sin_pure_data.txt\")\n",
    "x2 = D[:,0]\n",
    "sin_pure = D[:,1]\n",
    "\n",
    "err_gf = abs(sin_gf - compute_sin_arb(x))/abs(sin_gf)\n",
    "err_pure = abs(sin_pure - compute_sin_arb(x2))/abs(sin_pure)\n",
    "\n",
    "figure(figsize=(12, 8))\n",
    "loglog(x, err_gf, \".\", label=\"GFortran Intrinsic\")\n",
    "loglog(x2, err_pure, \".\", label=\"Pure double double\")\n",
    "x0 = pi/2\n",
    "plot([x0, x0], [1e-15, 1e-14], \"k-\")\n",
    "x0 = 1e6\n",
    "plot([x0, x0], [1e-15, 1e-14], \"k-\")\n",
    "legend()\n",
    "xlabel(\"x\")\n",
    "ylabel(\"Relative Error of sin(x)\")\n",
    "ylim([1e-18, None])\n",
    "grid()\n",
    "savefig(\"perf_error_rel.pdf\")\n",
    "show()"
   ]
  },
  {
   "cell_type": "code",
   "execution_count": null,
   "id": "fb75cb19",
   "metadata": {},
   "outputs": [],
   "source": [
    "D = loadtxt(\"sin_data.txt\")\n",
    "x = D[:,0]\n",
    "sin_gf = D[:,2]\n",
    "D = loadtxt(\"sin_pure_data.txt\")\n",
    "x2 = D[:,0]\n",
    "sin_pure = D[:,2]\n",
    "\n",
    "figure(figsize=(12, 8))\n",
    "loglog(x, sin_gf, \".\", label=\"GFortran Intrinsic\")\n",
    "loglog(x2, sin_pure, \".\", label=\"Pure double double\")\n",
    "x0 = pi/2\n",
    "plot([x0, x0], [1e-9, 1e-8], \"k-\")\n",
    "x0 = 1e6\n",
    "plot([x0, x0], [1e-9, 1e-8], \"k-\")\n",
    "legend()\n",
    "xlabel(\"x\")\n",
    "ylabel(\"Time of sin(x)\")\n",
    "grid()\n",
    "savefig(\"perf1.pdf\")\n",
    "show()"
   ]
  },
  {
   "cell_type": "code",
   "execution_count": null,
   "id": "0b502558",
   "metadata": {},
   "outputs": [],
   "source": [
    "D = loadtxt(\"sin_data.txt\")\n",
    "x = D[:,0]\n",
    "sin_gf = D[:,2]\n",
    "D = loadtxt(\"sin_pure_data.txt\")\n",
    "x2 = D[:,0]\n",
    "sin_pure = D[:,2]\n",
    "\n",
    "figure(figsize=(12, 8))\n",
    "semilogx(x, sin_gf / sin_pure, \".\", label=\"Pure speedup over GFortran\")\n",
    "x0 = pi/2\n",
    "plot([x0, x0], [2, 4], \"k-\")\n",
    "x0 = 1e6\n",
    "plot([x0, x0], [2, 4], \"k-\")\n",
    "legend()\n",
    "xlabel(\"x\")\n",
    "ylabel(\"Speed up of sin(x)\")\n",
    "ylim([0.5, 8])\n",
    "grid()\n",
    "savefig(\"perf2.pdf\")\n",
    "show()"
   ]
  }
 ],
 "metadata": {
  "kernelspec": {
   "display_name": "Python 3 (ipykernel)",
   "language": "python",
   "name": "python3"
  },
  "language_info": {
   "codemirror_mode": {
    "name": "ipython",
    "version": 3
   },
   "file_extension": ".py",
   "mimetype": "text/x-python",
   "name": "python",
   "nbconvert_exporter": "python",
   "pygments_lexer": "ipython3",
   "version": "3.9.7"
  }
 },
 "nbformat": 4,
 "nbformat_minor": 5
}
