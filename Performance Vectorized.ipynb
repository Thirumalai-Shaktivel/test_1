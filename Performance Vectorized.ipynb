{
 "cells": [
  {
   "cell_type": "code",
   "execution_count": null,
   "id": "4933dd74",
   "metadata": {},
   "outputs": [],
   "source": [
    "!./build.sh\n",
    "# !./sin_perf > sin_data.txt\n",
    "!./sin_perf_pure_vec > sin_pure_data_vec.txt"
   ]
  },
  {
   "cell_type": "code",
   "execution_count": null,
   "id": "20d0a772",
   "metadata": {},
   "outputs": [],
   "source": [
    "%pylab inline"
   ]
  },
  {
   "cell_type": "code",
   "execution_count": null,
   "id": "fb75cb19",
   "metadata": {},
   "outputs": [],
   "source": [
    "#D = loadtxt(\"sin_data.txt\")\n",
    "#x = D[:,0]\n",
    "#sin_gf = D[:,2]\n",
    "D = loadtxt(\"sin_pure_data_vec.txt\")\n",
    "x2 = D[:,0]\n",
    "sin_pure = D[:,2]\n",
    "\n",
    "GHz = 1e9\n",
    "KB = 1024\n",
    "MB = 1024**2\n",
    "\n",
    "#cpu_freq = 2.4 * GHz\n",
    "cpu_freq = 5.2 * GHz * 1.2\n",
    "L1 = 512 * KB\n",
    "L2 = 2048 * KB\n",
    "L3 = 16 * MB\n",
    "k = 8 * 2 # 8 bytes per element, 2 arrays\n",
    "\n",
    "figure(figsize=(20, 12))\n",
    "#loglog(x, sin_gf, \".\", label=\"GFortran Intrinsic\")\n",
    "semilogx(x2, sin_pure * cpu_freq, \".\", label=\"Pure double double\")\n",
    "semilogx([L1/k, L1/k], [0, 2], \"-\", label=\"L1\")\n",
    "semilogx([L2/k, L2/k], [0, 2], \"-\", label=\"L2\")\n",
    "semilogx([L3/k, L3/k], [0, 2], \"-\", label=\"L3\")\n",
    "legend()\n",
    "xlabel(\"Array length [double]\")\n",
    "ylabel(\"Time of sin(x) per array element\")\n",
    "grid()\n",
    "xlim([1e2, None])\n",
    "ylim([0, 2])\n",
    "savefig(\"perf1.pdf\")\n",
    "show()"
   ]
  }
 ],
 "metadata": {
  "kernelspec": {
   "display_name": "Python 3 (ipykernel)",
   "language": "python",
   "name": "python3"
  },
  "language_info": {
   "codemirror_mode": {
    "name": "ipython",
    "version": 3
   },
   "file_extension": ".py",
   "mimetype": "text/x-python",
   "name": "python",
   "nbconvert_exporter": "python",
   "pygments_lexer": "ipython3",
   "version": "3.9.7"
  }
 },
 "nbformat": 4,
 "nbformat_minor": 5
}
