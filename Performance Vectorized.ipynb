{
 "cells": [
  {
   "cell_type": "code",
   "execution_count": null,
   "id": "4933dd74",
   "metadata": {},
   "outputs": [],
   "source": [
    "!./build.sh\n",
    "# !./sin_perf > sin_data.txt\n",
    "!./sin_perf_pure_vec > sin_pure_data_vec.txt"
   ]
  },
  {
   "cell_type": "code",
   "execution_count": null,
   "id": "20d0a772",
   "metadata": {},
   "outputs": [],
   "source": [
    "%pylab inline"
   ]
  },
  {
   "cell_type": "code",
   "execution_count": null,
   "id": "fb75cb19",
   "metadata": {},
   "outputs": [],
   "source": [
    "#D = loadtxt(\"sin_data.txt\")\n",
    "#x = D[:,0]\n",
    "#sin_gf = D[:,2]\n",
    "D = loadtxt(\"sin_pure_data_vec.txt\")\n",
    "x2 = D[:,0]\n",
    "sin_pure = D[:,2]\n",
    "read = D[:,3]\n",
    "write = D[:,4]\n",
    "\n",
    "GHz = 1e9\n",
    "KB = 1024\n",
    "MB = 1024**2\n",
    "\n",
    "# \n",
    "# https://www.agner.org/optimize/instruction_tables.pdf\n",
    "# R: 0.125    (`VMOVAPS y,m256` 0.5 cycles per instruction = 4 doubles)\n",
    "# W: 0.25     (`VMOVAPS m256,y` 1 cycle per instruction = 4 doubles)\n",
    "# *: 0.125    (`vmulpd` is 0.5 cycles per 4 doubles)\n",
    "# +: 0.125\n",
    "# fma: 0.125  (`VFMADD...` is 0.5 cycles)\n",
    "#cpu_freq = 2.4 * GHz # Base\n",
    "#cpu_freq = 5.3 * GHz # Boost\n",
    "cpu_freq = 4.590 * GHz # Actual\n",
    "L1 = 64 * KB\n",
    "L2 = 256 * KB\n",
    "L3 = 16 * MB\n",
    "k = 8 *2  # 8 bytes per element, 2 arrays\n",
    "\n",
    "figure(figsize=(20, 12))\n",
    "#loglog(x, sin_gf, \".\", label=\"GFortran Intrinsic\")\n",
    "semilogx([x2[0], x2[-1]], [0.125, 0.125], \"--\", color=\"gray\")\n",
    "semilogx([x2[0], x2[-1]], [0.25, 0.25], \"--\", color=\"gray\")\n",
    "semilogx(x2, read * cpu_freq, \".\", label=\"R (0.125)\")\n",
    "semilogx(x2, write * cpu_freq, \".\", label=\"W (0.25)\")\n",
    "semilogx(x2, sin_pure * cpu_freq, \".\", label=\"Pure double double\")\n",
    "semilogx([L1/k, L1/k], [0, 2], \"-\", label=\"L1\")\n",
    "semilogx([L2/k, L2/k], [0, 2], \"-\", label=\"L2\")\n",
    "semilogx([L3/k, L3/k], [0, 2], \"-\", label=\"L3\")\n",
    "legend()\n",
    "xlabel(\"Array length [double]\")\n",
    "ylabel(\"Time of sin(x) per array element\")\n",
    "grid()\n",
    "#xlim([1e2, None])\n",
    "ylim([0, 2])\n",
    "savefig(\"perf1.pdf\")\n",
    "show()"
   ]
  },
  {
   "cell_type": "code",
   "execution_count": null,
   "id": "a34e9af7",
   "metadata": {},
   "outputs": [],
   "source": [
    "i1 = 3\n",
    "i2 = 9\n",
    "print(read[i1:i2])\n",
    "print(write[i1:i2])\n",
    "Ra = average(read[i1:i2])\n",
    "Rm = min(read[i1:i2])\n",
    "Wa = average(write[i1:i2])\n",
    "Wm = min(write[i1:i2])\n",
    "\n",
    "print(\"CPU freq R avg: %.3f GHz\" % (0.125 / Ra / GHz),\n",
    "      \"CPU freq R min: %.3f GHz\" % (0.125 / Rm / GHz)\n",
    "    )\n",
    "print(\"CPU freq W avg: %.3f GHz\" % (0.25 / Wa / GHz),\n",
    "      \"CPU freq W min: %.3f GHz\" % (0.25 / Wm / GHz)\n",
    "    )\n",
    "\n",
    "print(\"Using CPU freq: %.3f GHz\" % (cpu_freq / GHz))\n",
    "\n",
    "print(\"R avg: %.3f\" % (Ra * cpu_freq), \"R min: %.3f\" % (Rm * cpu_freq))\n",
    "print(\"W avg: %.3f\" % (Wa * cpu_freq), \"W min: %.3f\" % (Wm * cpu_freq))\n",
    "print(\"kernel min:\", min(sin_pure * cpu_freq))"
   ]
  }
 ],
 "metadata": {
  "kernelspec": {
   "display_name": "Python 3 (ipykernel)",
   "language": "python",
   "name": "python3"
  },
  "language_info": {
   "codemirror_mode": {
    "name": "ipython",
    "version": 3
   },
   "file_extension": ".py",
   "mimetype": "text/x-python",
   "name": "python",
   "nbconvert_exporter": "python",
   "pygments_lexer": "ipython3",
   "version": "3.9.7"
  }
 },
 "nbformat": 4,
 "nbformat_minor": 5
}
